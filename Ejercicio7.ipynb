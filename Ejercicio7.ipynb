{
 "cells": [
  {
   "cell_type": "markdown",
   "metadata": {},
   "source": [
    "### EJERCICIO 7"
   ]
  },
  {
   "cell_type": "code",
   "execution_count": 53,
   "metadata": {},
   "outputs": [],
   "source": [
    "text = \"\"\" La brecha salarial alcanzó el 27,7%: las mujeres ocupadas\n",
    "debieron trabajar 8 días y 10 horas más que los varones ocupados para\n",
    "ganar lo mismo que ellos en un mes. \"\"\""
   ]
  },
  {
   "cell_type": "markdown",
   "metadata": {},
   "source": [
    "Metodo que analiza cada caracter de la frase:"
   ]
  },
  {
   "cell_type": "code",
   "execution_count": 54,
   "metadata": {},
   "outputs": [],
   "source": [
    "words = text.strip().split()\n",
    "\n",
    "def count_chars(words):\n",
    "    lowers = uppers = not_letters = 0\n",
    "    for word in words:\n",
    "        for char in word:\n",
    "            if char.islower():\n",
    "                lowers += 1\n",
    "            elif char.isupper():\n",
    "                uppers += 1\n",
    "            else:\n",
    "                not_letters += 1\n",
    "    return lowers,uppers,not_letters        "
   ]
  },
  {
   "cell_type": "markdown",
   "metadata": {},
   "source": [
    "Conteo de palabras en la frase y resolucion del enunciado:"
   ]
  },
  {
   "cell_type": "code",
   "execution_count": 55,
   "metadata": {},
   "outputs": [
    {
     "name": "stdout",
     "output_type": "stream",
     "text": [
      "Minusculas:  123\n",
      "Mayusculas:  1\n",
      "No letras:  10\n",
      "Cantidad de palabras:  30\n"
     ]
    }
   ],
   "source": [
    "print(f\"Minusculas: \",count_chars(words)[0])\n",
    "print(f\"Mayusculas: \",count_chars(words)[1])\n",
    "print(f\"No letras: \",count_chars(words)[2])\n",
    "print(f\"Cantidad de palabras: \", len(words))"
   ]
  }
 ],
 "metadata": {
  "kernelspec": {
   "display_name": "venv",
   "language": "python",
   "name": "python3"
  },
  "language_info": {
   "codemirror_mode": {
    "name": "ipython",
    "version": 3
   },
   "file_extension": ".py",
   "mimetype": "text/x-python",
   "name": "python",
   "nbconvert_exporter": "python",
   "pygments_lexer": "ipython3",
   "version": "3.11.7"
  }
 },
 "nbformat": 4,
 "nbformat_minor": 2
}
