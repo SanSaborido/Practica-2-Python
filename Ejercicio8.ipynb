{
 "cells": [
  {
   "cell_type": "markdown",
   "metadata": {},
   "source": [
    "### EJERCICIO 8"
   ]
  },
  {
   "cell_type": "code",
   "execution_count": 21,
   "metadata": {},
   "outputs": [
    {
     "name": "stdout",
     "output_type": "stream",
     "text": [
      "¿Es un Heterograma?:  True\n"
     ]
    }
   ],
   "source": [
    "import string\n",
    "\n",
    "word_phrase = input(\"Ingrese una palabra o frase: \").lower()\n",
    "\n",
    "def is_heterogram (word_phrase):\n",
    "    characters = (\" \",\"-\",\",\",\".\",\" \")\n",
    "    for char in characters:\n",
    "        word_phrase = word_phrase.replace(char,\"\")    \n",
    "    unique_letters = set(word_phrase)\n",
    "    return len(unique_letters) == len(word_phrase)\n",
    "\n",
    "\n",
    "print(f\"¿Es un Heterograma?: \", is_heterogram(word_phrase))"
   ]
  }
 ],
 "metadata": {
  "kernelspec": {
   "display_name": "venv",
   "language": "python",
   "name": "python3"
  },
  "language_info": {
   "codemirror_mode": {
    "name": "ipython",
    "version": 3
   },
   "file_extension": ".py",
   "mimetype": "text/x-python",
   "name": "python",
   "nbconvert_exporter": "python",
   "pygments_lexer": "ipython3",
   "version": "3.11.7"
  }
 },
 "nbformat": 4,
 "nbformat_minor": 2
}
