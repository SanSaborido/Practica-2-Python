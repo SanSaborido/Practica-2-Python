{
 "cells": [
  {
   "cell_type": "markdown",
   "metadata": {},
   "source": [
    "### EJERCICIO 9"
   ]
  },
  {
   "cell_type": "markdown",
   "metadata": {},
   "source": [
    "Creacion de diccionario de tuplas con los valores correspondientes a cada conjunto de letras:"
   ]
  },
  {
   "cell_type": "code",
   "execution_count": 91,
   "metadata": {},
   "outputs": [],
   "source": [
    "table = {(\"A\",\"E\",\"I\",\"O\",\"U\",\"L\",\"N\",\"R\",\"S\",\"T\"):1, (\"D\",\"G\"):2, (\"B\",\"C\",\"M\",\"P\"):3,\n",
    "         (\"F\",\"H\",\"V\",\"W\",\"Y\"):4, (\"K\"):5, (\"J\",\"X\"):8, (\"Q\",\"Z\"):10}"
   ]
  },
  {
   "cell_type": "markdown",
   "metadata": {},
   "source": [
    "Resolucion del ejercicio mediante un metodo encargado de recibir la palabra ingresada y recorrer todo el diccionario comparando las letras de la palabra con las de cada tupla:"
   ]
  },
  {
   "cell_type": "code",
   "execution_count": 92,
   "metadata": {},
   "outputs": [
    {
     "name": "stdout",
     "output_type": "stream",
     "text": [
      "Puntaje de palabra  ZARPADO :  19\n"
     ]
    }
   ],
   "source": [
    "word = input(\"Ingrese una palabra o frase: \").upper()\n",
    "\n",
    "def calculate_points(word,table):\n",
    "    counter = 0\n",
    "    for elem in table:\n",
    "        for letter in word:\n",
    "            if letter in elem:\n",
    "                counter += table[elem]\n",
    "    return counter    \n",
    "print(f\"Puntaje de palabra \", word, \": \", calculate_points(word,table))"
   ]
  }
 ],
 "metadata": {
  "kernelspec": {
   "display_name": "venv",
   "language": "python",
   "name": "python3"
  },
  "language_info": {
   "codemirror_mode": {
    "name": "ipython",
    "version": 3
   },
   "file_extension": ".py",
   "mimetype": "text/x-python",
   "name": "python",
   "nbconvert_exporter": "python",
   "pygments_lexer": "ipython3",
   "version": "3.11.7"
  }
 },
 "nbformat": 4,
 "nbformat_minor": 2
}
