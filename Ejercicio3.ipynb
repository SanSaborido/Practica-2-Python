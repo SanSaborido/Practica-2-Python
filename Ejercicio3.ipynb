{
 "cells": [
  {
   "cell_type": "markdown",
   "metadata": {},
   "source": [
    "### EJERCICIO 3"
   ]
  },
  {
   "cell_type": "code",
   "execution_count": 82,
   "metadata": {},
   "outputs": [],
   "source": [
    "jupyter_info = \"\"\" JupyterLab is a web-based interactive development\n",
    "environment for Jupyter notebooks, code, and data. JupyterLab is\n",
    "flexible: configure and arrange the user interface to support a wide\n",
    "range of workflows in data science, scientific computing, and machine\n",
    "learning. JupyterLab is extensible and modular: write plugins that add\n",
    "new components and integrate with existing ones. \"\"\""
   ]
  },
  {
   "cell_type": "markdown",
   "metadata": {},
   "source": [
    "Limpieza del texto:"
   ]
  },
  {
   "cell_type": "code",
   "execution_count": 83,
   "metadata": {},
   "outputs": [],
   "source": [
    "characters = (\",\",\".\",\":\")\n",
    "\n",
    "for char in characters:\n",
    "    jupyter_info = jupyter_info.replace(char,\"\")  "
   ]
  },
  {
   "cell_type": "markdown",
   "metadata": {},
   "source": [
    "Resolucion del ejercicio:"
   ]
  },
  {
   "cell_type": "code",
   "execution_count": 84,
   "metadata": {},
   "outputs": [
    {
     "name": "stdout",
     "output_type": "stream",
     "text": [
      "No ingresaste una letra\n"
     ]
    }
   ],
   "source": [
    "import string\n",
    "\n",
    "letter = input(\"Ingresa una letra: \")\n",
    "\n",
    "if len(letter) == 1 and letter in string.ascii_letters:\n",
    "    count = 0\n",
    "    for word in jupyter_info.split():\n",
    "        if letter in word:\n",
    "            print(word) \n",
    "            count += 1\n",
    "    if count == 0:\n",
    "        print(\"No hay palabras con esta letra\")\n",
    "else:\n",
    "    print(\"No ingresaste una letra\")"
   ]
  }
 ],
 "metadata": {
  "kernelspec": {
   "display_name": "venv",
   "language": "python",
   "name": "python3"
  },
  "language_info": {
   "codemirror_mode": {
    "name": "ipython",
    "version": 3
   },
   "file_extension": ".py",
   "mimetype": "text/x-python",
   "name": "python",
   "nbconvert_exporter": "python",
   "pygments_lexer": "ipython3",
   "version": "3.11.7"
  }
 },
 "nbformat": 4,
 "nbformat_minor": 2
}
