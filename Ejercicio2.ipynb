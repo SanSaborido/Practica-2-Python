{
 "cells": [
  {
   "cell_type": "markdown",
   "metadata": {},
   "source": [
    "### EJERCICIO 2"
   ]
  },
  {
   "cell_type": "markdown",
   "metadata": {},
   "source": [
    "Copia del texto en la variable text:"
   ]
  },
  {
   "cell_type": "code",
   "execution_count": 5,
   "metadata": {},
   "outputs": [],
   "source": [
    "text = \"\"\"NumPy is the fundamental package for scientific computing with Python.\n",
    "\n",
    "Website: https://www.numpy.org\n",
    "Documentation: https://numpy.org/doc\n",
    "Mailing list: https://mail.python.org/mailman/listinfo/numpy-discussion\n",
    "Source code: https://github.com/numpy/numpy\n",
    "Contributing: https://www.numpy.org/devdocs/dev/index.html\n",
    "Bug reports: https://github.com/numpy/numpy/issues\n",
    "Report a security vulnerability: https://tidelift.com/docs/security\n",
    "It provides:\n",
    "\n",
    "a powerful N-dimensional array object\n",
    "sophisticated (broadcasting) functions\n",
    "tools for integrating C/C++ and Fortran code\n",
    "useful linear algebra, Fourier transform, and random number capabilities\n",
    "Testing:\n",
    "\n",
    "NumPy requires pytest and hypothesis. Tests can then be run after installation with:\n",
    "\n",
    "python -c \"import numpy, sys; sys.exit(numpy.test() is False)\"\n",
    "Code of Conduct\n",
    "NumPy is a community-driven open source project developed by a diverse group of contributors. The NumPy leadership has made a strong commitment to creating an open, inclusive, and positive community. Please read the NumPy Code of Conduct for guidance on how to interact with others in a way that makes our community thrive.\n",
    "\n",
    "Call for Contributions\n",
    "The NumPy project welcomes your expertise and enthusiasm!\n",
    "\n",
    "Small improvements or fixes are always appreciated. If you are considering larger contributions to the source code, please contact us through the mailing list first.\n",
    "\n",
    "Writing code isn’t the only way to contribute to NumPy. You can also:\n",
    "\n",
    "review pull requests\n",
    "help us stay on top of new and old issues\n",
    "develop tutorials, presentations, and other educational materials\n",
    "maintain and improve our website\n",
    "develop graphic design for our brand assets and promotional materials\n",
    "translate website content\n",
    "help with outreach and onboard new contributors\n",
    "write grant proposals and help with other fundraising efforts\n",
    "For more information about the ways you can contribute to NumPy, visit our website. If you’re unsure where to start or how your skills fit in, reach out! You can ask on the mailing list or here, on GitHub, by opening a new issue or leaving a comment on a relevant issue that is already open.\n",
    "\n",
    "Our preferred channels of communication are all public, but if you’d like to speak to us in private first, contact our community coordinators at numpy-team@googlegroups.com or on Slack (write numpy-team@googlegroups.com for an invitation).\n",
    "\n",
    "We also have a biweekly community call, details of which are announced on the mailing list. You are very welcome to join.\n",
    "\n",
    "If you are new to contributing to open source, this guide helps explain why, what, and how to successfully get involved.\"\"\""
   ]
  },
  {
   "cell_type": "markdown",
   "metadata": {},
   "source": [
    "Limpieza del texto de caracteres especiales:"
   ]
  },
  {
   "cell_type": "code",
   "execution_count": 6,
   "metadata": {},
   "outputs": [
    {
     "name": "stdout",
     "output_type": "stream",
     "text": [
      "['NumPy', 'is', 'the', 'fundamental', 'package', 'for', 'scientific', 'computing', 'with', 'Python\\n\\nWebsite', 'https//wwwnumpyorg\\nDocumentation', 'https//numpyorg/doc\\nMailing', 'list', 'https//mailpythonorg/mailman/listinfo/numpy-discussion\\nSource', 'code', 'https//githubcom/numpy/numpy\\nContributing', 'https//wwwnumpyorg/devdocs/dev/indexhtml\\nBug', 'reports', 'https//githubcom/numpy/numpy/issues\\nReport', 'a', 'security', 'vulnerability', 'https//tideliftcom/docs/security\\nIt', 'provides\\n\\na', 'powerful', 'N-dimensional', 'array', 'object\\nsophisticated', '(broadcasting)', 'functions\\ntools', 'for', 'integrating', 'C/C++', 'and', 'Fortran', 'code\\nuseful', 'linear', 'algebra', 'Fourier', 'transform', 'and', 'random', 'number', 'capabilities\\nTesting\\n\\nNumPy', 'requires', 'pytest', 'and', 'hypothesis', 'Tests', 'can', 'then', 'be', 'run', 'after', 'installation', 'with\\n\\npython', '-c', '\"import', 'numpy', 'sys', 'sysexit(numpytest()', 'is', 'False)\"\\nCode', 'of', 'Conduct\\nNumPy', 'is', 'a', 'community-driven', 'open', 'source', 'project', 'developed', 'by', 'a', 'diverse', 'group', 'of', 'contributors', 'The', 'NumPy', 'leadership', 'has', 'made', 'a', 'strong', 'commitment', 'to', 'creating', 'an', 'open', 'inclusive', 'and', 'positive', 'community', 'Please', 'read', 'the', 'NumPy', 'Code', 'of', 'Conduct', 'for', 'guidance', 'on', 'how', 'to', 'interact', 'with', 'others', 'in', 'a', 'way', 'that', 'makes', 'our', 'community', 'thrive\\n\\nCall', 'for', 'Contributions\\nThe', 'NumPy', 'project', 'welcomes', 'your', 'expertise', 'and', 'enthusiasm!\\n\\nSmall', 'improvements', 'or', 'fixes', 'are', 'always', 'appreciated', 'If', 'you', 'are', 'considering', 'larger', 'contributions', 'to', 'the', 'source', 'code', 'please', 'contact', 'us', 'through', 'the', 'mailing', 'list', 'first\\n\\nWriting', 'code', 'isn’t', 'the', 'only', 'way', 'to', 'contribute', 'to', 'NumPy', 'You', 'can', 'also\\n\\nreview', 'pull', 'requests\\nhelp', 'us', 'stay', 'on', 'top', 'of', 'new', 'and', 'old', 'issues\\ndevelop', 'tutorials', 'presentations', 'and', 'other', 'educational', 'materials\\nmaintain', 'and', 'improve', 'our', 'website\\ndevelop', 'graphic', 'design', 'for', 'our', 'brand', 'assets', 'and', 'promotional', 'materials\\ntranslate', 'website', 'content\\nhelp', 'with', 'outreach', 'and', 'onboard', 'new', 'contributors\\nwrite', 'grant', 'proposals', 'and', 'help', 'with', 'other', 'fundraising', 'efforts\\nFor', 'more', 'information', 'about', 'the', 'ways', 'you', 'can', 'contribute', 'to', 'NumPy', 'visit', 'our', 'website', 'If', 'you’re', 'unsure', 'where', 'to', 'start', 'or', 'how', 'your', 'skills', 'fit', 'in', 'reach', 'out!', 'You', 'can', 'ask', 'on', 'the', 'mailing', 'list', 'or', 'here', 'on', 'GitHub', 'by', 'opening', 'a', 'new', 'issue', 'or', 'leaving', 'a', 'comment', 'on', 'a', 'relevant', 'issue', 'that', 'is', 'already', 'open\\n\\nOur', 'preferred', 'channels', 'of', 'communication', 'are', 'all', 'public', 'but', 'if', 'you’d', 'like', 'to', 'speak', 'to', 'us', 'in', 'private', 'first', 'contact', 'our', 'community', 'coordinators', 'at', 'numpy-team@googlegroupscom', 'or', 'on', 'Slack', '(write', 'numpy-team@googlegroupscom', 'for', 'an', 'invitation)\\n\\nWe', 'also', 'have', 'a', 'biweekly', 'community', 'call', 'details', 'of', 'which', 'are', 'announced', 'on', 'the', 'mailing', 'list', 'You', 'are', 'very', 'welcome', 'to', 'join\\n\\nIf', 'you', 'are', 'new', 'to', 'contributing', 'to', 'open', 'source', 'this', 'guide', 'helps', 'explain', 'why', 'what', 'and', 'how', 'to', 'successfully', 'get', 'involved']\n"
     ]
    }
   ],
   "source": [
    "characters = (\",\",\";\",\":\",\".\")\n",
    "\n",
    "for char in characters:\n",
    "    text = text.replace(char,\"\")\n",
    "\n",
    "words = text.split(\" \")\n",
    "\n",
    "print (words)"
   ]
  },
  {
   "cell_type": "markdown",
   "metadata": {},
   "source": [
    "Palabras mayores a 4 caracteres guardadas en una lista:"
   ]
  },
  {
   "cell_type": "code",
   "execution_count": 7,
   "metadata": {},
   "outputs": [
    {
     "name": "stdout",
     "output_type": "stream",
     "text": [
      "['numpy', 'fundamental', 'package', 'scientific', 'computing', 'with', 'python\\n\\nwebsite', 'https//wwwnumpyorg\\ndocumentation', 'https//numpyorg/doc\\nmailing', 'list', 'https//mailpythonorg/mailman/listinfo/numpy-discussion\\nsource', 'code', 'https//githubcom/numpy/numpy\\ncontributing', 'https//wwwnumpyorg/devdocs/dev/indexhtml\\nbug', 'reports', 'https//githubcom/numpy/numpy/issues\\nreport', 'security', 'vulnerability', 'https//tideliftcom/docs/security\\nit', 'provides\\n\\na', 'powerful', 'n-dimensional', 'array', 'object\\nsophisticated', '(broadcasting)', 'functions\\ntools', 'integrating', 'c/c++', 'fortran', 'code\\nuseful', 'linear', 'algebra', 'fourier', 'transform', 'random', 'number', 'capabilities\\ntesting\\n\\nnumpy', 'requires', 'pytest', 'hypothesis', 'tests', 'then', 'after', 'installation', 'with\\n\\npython', '\"import', 'numpy', 'sysexit(numpytest()', 'false)\"\\ncode', 'conduct\\nnumpy', 'community-driven', 'open', 'source', 'project', 'developed', 'diverse', 'group', 'contributors', 'numpy', 'leadership', 'made', 'strong', 'commitment', 'creating', 'open', 'inclusive', 'positive', 'community', 'please', 'read', 'numpy', 'code', 'conduct', 'guidance', 'interact', 'with', 'others', 'that', 'makes', 'community', 'thrive\\n\\ncall', 'contributions\\nthe', 'numpy', 'project', 'welcomes', 'your', 'expertise', 'enthusiasm!\\n\\nsmall', 'improvements', 'fixes', 'always', 'appreciated', 'considering', 'larger', 'contributions', 'source', 'code', 'please', 'contact', 'through', 'mailing', 'list', 'first\\n\\nwriting', 'code', 'isn’t', 'only', 'contribute', 'numpy', 'also\\n\\nreview', 'pull', 'requests\\nhelp', 'stay', 'issues\\ndevelop', 'tutorials', 'presentations', 'other', 'educational', 'materials\\nmaintain', 'improve', 'website\\ndevelop', 'graphic', 'design', 'brand', 'assets', 'promotional', 'materials\\ntranslate', 'website', 'content\\nhelp', 'with', 'outreach', 'onboard', 'contributors\\nwrite', 'grant', 'proposals', 'help', 'with', 'other', 'fundraising', 'efforts\\nfor', 'more', 'information', 'about', 'ways', 'contribute', 'numpy', 'visit', 'website', 'you’re', 'unsure', 'where', 'start', 'your', 'skills', 'reach', 'out!', 'mailing', 'list', 'here', 'github', 'opening', 'issue', 'leaving', 'comment', 'relevant', 'issue', 'that', 'already', 'open\\n\\nour', 'preferred', 'channels', 'communication', 'public', 'you’d', 'like', 'speak', 'private', 'first', 'contact', 'community', 'coordinators', 'numpy-team@googlegroupscom', 'slack', '(write', 'numpy-team@googlegroupscom', 'invitation)\\n\\nwe', 'also', 'have', 'biweekly', 'community', 'call', 'details', 'which', 'announced', 'mailing', 'list', 'very', 'welcome', 'join\\n\\nif', 'contributing', 'open', 'source', 'this', 'guide', 'helps', 'explain', 'what', 'successfully', 'involved']\n"
     ]
    }
   ],
   "source": [
    "valid_words = []\n",
    "\n",
    "for word in words:\n",
    "    if len(word) >= 4:\n",
    "        valid_words.append(word.lower())\n",
    "        \n",
    "print(valid_words)      "
   ]
  },
  {
   "cell_type": "markdown",
   "metadata": {},
   "source": [
    "Prueba del metodo Counter y resolucion del ejercicio:"
   ]
  },
  {
   "cell_type": "code",
   "execution_count": 8,
   "metadata": {},
   "outputs": [
    {
     "name": "stdout",
     "output_type": "stream",
     "text": [
      "Counter({'numpy': 7, 'with': 4, 'list': 4, 'code': 4, 'community': 4, 'open': 3, 'source': 3, 'mailing': 3, 'project': 2, 'please': 2, 'that': 2, 'your': 2, 'contact': 2, 'contribute': 2, 'other': 2, 'website': 2, 'issue': 2, 'numpy-team@googlegroupscom': 2, 'fundamental': 1, 'package': 1, 'scientific': 1, 'computing': 1, 'python\\n\\nwebsite': 1, 'https//wwwnumpyorg\\ndocumentation': 1, 'https//numpyorg/doc\\nmailing': 1, 'https//mailpythonorg/mailman/listinfo/numpy-discussion\\nsource': 1, 'https//githubcom/numpy/numpy\\ncontributing': 1, 'https//wwwnumpyorg/devdocs/dev/indexhtml\\nbug': 1, 'reports': 1, 'https//githubcom/numpy/numpy/issues\\nreport': 1, 'security': 1, 'vulnerability': 1, 'https//tideliftcom/docs/security\\nit': 1, 'provides\\n\\na': 1, 'powerful': 1, 'n-dimensional': 1, 'array': 1, 'object\\nsophisticated': 1, '(broadcasting)': 1, 'functions\\ntools': 1, 'integrating': 1, 'c/c++': 1, 'fortran': 1, 'code\\nuseful': 1, 'linear': 1, 'algebra': 1, 'fourier': 1, 'transform': 1, 'random': 1, 'number': 1, 'capabilities\\ntesting\\n\\nnumpy': 1, 'requires': 1, 'pytest': 1, 'hypothesis': 1, 'tests': 1, 'then': 1, 'after': 1, 'installation': 1, 'with\\n\\npython': 1, '\"import': 1, 'sysexit(numpytest()': 1, 'false)\"\\ncode': 1, 'conduct\\nnumpy': 1, 'community-driven': 1, 'developed': 1, 'diverse': 1, 'group': 1, 'contributors': 1, 'leadership': 1, 'made': 1, 'strong': 1, 'commitment': 1, 'creating': 1, 'inclusive': 1, 'positive': 1, 'read': 1, 'conduct': 1, 'guidance': 1, 'interact': 1, 'others': 1, 'makes': 1, 'thrive\\n\\ncall': 1, 'contributions\\nthe': 1, 'welcomes': 1, 'expertise': 1, 'enthusiasm!\\n\\nsmall': 1, 'improvements': 1, 'fixes': 1, 'always': 1, 'appreciated': 1, 'considering': 1, 'larger': 1, 'contributions': 1, 'through': 1, 'first\\n\\nwriting': 1, 'isn’t': 1, 'only': 1, 'also\\n\\nreview': 1, 'pull': 1, 'requests\\nhelp': 1, 'stay': 1, 'issues\\ndevelop': 1, 'tutorials': 1, 'presentations': 1, 'educational': 1, 'materials\\nmaintain': 1, 'improve': 1, 'website\\ndevelop': 1, 'graphic': 1, 'design': 1, 'brand': 1, 'assets': 1, 'promotional': 1, 'materials\\ntranslate': 1, 'content\\nhelp': 1, 'outreach': 1, 'onboard': 1, 'contributors\\nwrite': 1, 'grant': 1, 'proposals': 1, 'help': 1, 'fundraising': 1, 'efforts\\nfor': 1, 'more': 1, 'information': 1, 'about': 1, 'ways': 1, 'visit': 1, 'you’re': 1, 'unsure': 1, 'where': 1, 'start': 1, 'skills': 1, 'reach': 1, 'out!': 1, 'here': 1, 'github': 1, 'opening': 1, 'leaving': 1, 'comment': 1, 'relevant': 1, 'already': 1, 'open\\n\\nour': 1, 'preferred': 1, 'channels': 1, 'communication': 1, 'public': 1, 'you’d': 1, 'like': 1, 'speak': 1, 'private': 1, 'first': 1, 'coordinators': 1, 'slack': 1, '(write': 1, 'invitation)\\n\\nwe': 1, 'also': 1, 'have': 1, 'biweekly': 1, 'call': 1, 'details': 1, 'which': 1, 'announced': 1, 'very': 1, 'welcome': 1, 'join\\n\\nif': 1, 'contributing': 1, 'this': 1, 'guide': 1, 'helps': 1, 'explain': 1, 'what': 1, 'successfully': 1, 'involved': 1})\n",
      "La palabra con mas repeticiones es:  numpy\n"
     ]
    }
   ],
   "source": [
    "from collections import Counter\n",
    "\n",
    "counter = Counter(valid_words)\n",
    "\n",
    "print(counter)\n",
    "\n",
    "print(f\"La palabra con mas repeticiones es: \",counter.most_common(1)[0][0])"
   ]
  }
 ],
 "metadata": {
  "kernelspec": {
   "display_name": "venv",
   "language": "python",
   "name": "python3"
  },
  "language_info": {
   "codemirror_mode": {
    "name": "ipython",
    "version": 3
   },
   "file_extension": ".py",
   "mimetype": "text/x-python",
   "name": "python",
   "nbconvert_exporter": "python",
   "pygments_lexer": "ipython3",
   "version": "3.11.7"
  }
 },
 "nbformat": 4,
 "nbformat_minor": 2
}
