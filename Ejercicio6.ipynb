{
 "cells": [
  {
   "cell_type": "markdown",
   "metadata": {},
   "source": [
    "### EJERCICIO 6"
   ]
  },
  {
   "cell_type": "markdown",
   "metadata": {},
   "source": [
    "Luego de que se ingresen los datos, la frase se limpia de caracteres especiales y tanto la frase como la palabra se pasan a minusculas para poder compararse sin problemas.\n",
    "Tambien se crea un diccionario con los datos ingresados para luego mostrar las respuestas:"
   ]
  },
  {
   "cell_type": "code",
   "execution_count": 22,
   "metadata": {},
   "outputs": [],
   "source": [
    "phrase = input(\"Ingrese una frase:\")\n",
    "trie = input(\"Ingrese una palabra\")\n",
    "\n",
    "info = {\"Frase:\" : phrase, \"Palabra:\" : trie}\n",
    "\n",
    "characters = (\".\",\",\",\";\")\n",
    "\n",
    "phrase = phrase.lower()\n",
    "trie = trie.lower()\n",
    "for char in characters:\n",
    "    phrase = phrase.replace(char,\"\")"
   ]
  },
  {
   "cell_type": "markdown",
   "metadata": {},
   "source": [
    "Se crea la lista de palabras y se realiza la comparacion con el string, resolviendo el ejercicio:"
   ]
  },
  {
   "cell_type": "code",
   "execution_count": 23,
   "metadata": {},
   "outputs": [
    {
     "name": "stdout",
     "output_type": "stream",
     "text": [
      "{'Frase:': 'Tres tristes tigres, tragaban trigo en un trigal, en tres tristes trastos, tragaban trigo tres tristes tigres.', 'Palabra:': 'tres', 'Repeticiones:': 3}\n"
     ]
    }
   ],
   "source": [
    "words = phrase.split()\n",
    "\n",
    "counter = 0\n",
    "for word in words:\n",
    "    if trie == word:\n",
    "        counter += 1\n",
    "\n",
    "info[\"Repeticiones:\"] = counter\n",
    "print(info)"
   ]
  }
 ],
 "metadata": {
  "kernelspec": {
   "display_name": "venv",
   "language": "python",
   "name": "python3"
  },
  "language_info": {
   "codemirror_mode": {
    "name": "ipython",
    "version": 3
   },
   "file_extension": ".py",
   "mimetype": "text/x-python",
   "name": "python",
   "nbconvert_exporter": "python",
   "pygments_lexer": "ipython3",
   "version": "3.11.7"
  }
 },
 "nbformat": 4,
 "nbformat_minor": 2
}
