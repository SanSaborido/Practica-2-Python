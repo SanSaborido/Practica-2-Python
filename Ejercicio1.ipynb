{
 "cells": [
  {
   "cell_type": "markdown",
   "id": "6454f5a4",
   "metadata": {},
   "source": [
    "## Ejercicio 1\n"
   ]
  },
  {
   "cell_type": "markdown",
   "id": "bcee9b7b",
   "metadata": {},
   "source": [
    "Tomando el texto del README.md de numpy, copiar y pegar el texto en una variable,\n",
    "luego imprima todas las líneas cuya segunda palabra comience con una vocal (A, E, I,\n",
    "O, U, a, e, i, o, u)"
   ]
  },
  {
   "cell_type": "markdown",
   "id": "0ec1b226",
   "metadata": {},
   "source": [
    "\n",
    "Asignacion del archivo README a la variable text:"
   ]
  },
  {
   "cell_type": "code",
   "execution_count": 7,
   "id": "20c01408",
   "metadata": {},
   "outputs": [],
   "source": [
    "text = \"\"\"NumPy is the fundamental package for scientific computing with Python.\n",
    "\n",
    "Website: https://www.numpy.org\n",
    "Documentation: https://numpy.org/doc\n",
    "Mailing list: https://mail.python.org/mailman/listinfo/numpy-discussion\n",
    "Source code: https://github.com/numpy/numpy\n",
    "Contributing: https://www.numpy.org/devdocs/dev/index.html\n",
    "Bug reports: https://github.com/numpy/numpy/issues\n",
    "Report a security vulnerability: https://tidelift.com/docs/security\n",
    "It provides:\n",
    "\n",
    "a powerful N-dimensional array object\n",
    "sophisticated (broadcasting) functions\n",
    "tools for integrating C/C++ and Fortran code\n",
    "useful linear algebra, Fourier transform, and random number capabilities\n",
    "Testing:\n",
    "\n",
    "NumPy requires pytest and hypothesis. Tests can then be run after installation with:\n",
    "\n",
    "python -c \"import numpy, sys; sys.exit(numpy.test() is False)\"\n",
    "Code of Conduct\n",
    "NumPy is a community-driven open source project developed by a diverse group of contributors. The NumPy leadership has made a strong commitment to creating an open, inclusive, and positive community. Please read the NumPy Code of Conduct for guidance on how to interact with others in a way that makes our community thrive.\n",
    "\n",
    "Call for Contributions\n",
    "The NumPy project welcomes your expertise and enthusiasm!\n",
    "\n",
    "Small improvements or fixes are always appreciated. If you are considering larger contributions to the source code, please contact us through the mailing list first.\n",
    "\n",
    "Writing code isn’t the only way to contribute to NumPy. You can also:\n",
    "\n",
    "review pull requests\n",
    "help us stay on top of new and old issues\n",
    "develop tutorials, presentations, and other educational materials\n",
    "maintain and improve our website\n",
    "develop graphic design for our brand assets and promotional materials\n",
    "translate website content\n",
    "help with outreach and onboard new contributors\n",
    "write grant proposals and help with other fundraising efforts\n",
    "For more information about the ways you can contribute to NumPy, visit our website. If you’re unsure where to start or how your skills fit in, reach out! You can ask on the mailing list or here, on GitHub, by opening a new issue or leaving a comment on a relevant issue that is already open.\n",
    "\n",
    "Our preferred channels of communication are all public, but if you’d like to speak to us in private first, contact our community coordinators at numpy-team@googlegroups.com or on Slack (write numpy-team@googlegroups.com for an invitation).\n",
    "\n",
    "We also have a biweekly community call, details of which are announced on the mailing list. You are very welcome to join.\n",
    "\n",
    "If you are new to contributing to open source, this guide helps explain why, what, and how to successfully get involved.\"\"\""
   ]
  },
  {
   "cell_type": "markdown",
   "id": "35c2c882",
   "metadata": {},
   "source": [
    "Creacion de la lista con cada linea del texto:"
   ]
  },
  {
   "cell_type": "code",
   "execution_count": 8,
   "id": "bb5840f2",
   "metadata": {},
   "outputs": [
    {
     "name": "stdout",
     "output_type": "stream",
     "text": [
      "['NumPy is the fundamental package for scientific computing with Python.', '', 'Website: https://www.numpy.org', 'Documentation: https://numpy.org/doc', 'Mailing list: https://mail.python.org/mailman/listinfo/numpy-discussion', 'Source code: https://github.com/numpy/numpy', 'Contributing: https://www.numpy.org/devdocs/dev/index.html', 'Bug reports: https://github.com/numpy/numpy/issues', 'Report a security vulnerability: https://tidelift.com/docs/security', 'It provides:', '', 'a powerful N-dimensional array object', 'sophisticated (broadcasting) functions', 'tools for integrating C/C++ and Fortran code', 'useful linear algebra, Fourier transform, and random number capabilities', 'Testing:', '', 'NumPy requires pytest and hypothesis. Tests can then be run after installation with:', '', 'python -c \"import numpy, sys; sys.exit(numpy.test() is False)\"', 'Code of Conduct', 'NumPy is a community-driven open source project developed by a diverse group of contributors. The NumPy leadership has made a strong commitment to creating an open, inclusive, and positive community. Please read the NumPy Code of Conduct for guidance on how to interact with others in a way that makes our community thrive.', '', 'Call for Contributions', 'The NumPy project welcomes your expertise and enthusiasm!', '', 'Small improvements or fixes are always appreciated. If you are considering larger contributions to the source code, please contact us through the mailing list first.', '', 'Writing code isn’t the only way to contribute to NumPy. You can also:', '', 'review pull requests', 'help us stay on top of new and old issues', 'develop tutorials, presentations, and other educational materials', 'maintain and improve our website', 'develop graphic design for our brand assets and promotional materials', 'translate website content', 'help with outreach and onboard new contributors', 'write grant proposals and help with other fundraising efforts', 'For more information about the ways you can contribute to NumPy, visit our website. If you’re unsure where to start or how your skills fit in, reach out! You can ask on the mailing list or here, on GitHub, by opening a new issue or leaving a comment on a relevant issue that is already open.', '', 'Our preferred channels of communication are all public, but if you’d like to speak to us in private first, contact our community coordinators at numpy-team@googlegroups.com or on Slack (write numpy-team@googlegroups.com for an invitation).', '', 'We also have a biweekly community call, details of which are announced on the mailing list. You are very welcome to join.', '', 'If you are new to contributing to open source, this guide helps explain why, what, and how to successfully get involved.']\n"
     ]
    }
   ],
   "source": [
    "lines = text.split(\"\\n\")\n",
    "\n",
    "print(lines)    "
   ]
  },
  {
   "cell_type": "markdown",
   "id": "4998624c",
   "metadata": {},
   "source": [
    "Resolucion del enunciado (dento de la iteracion se controlan las lineas vacias):"
   ]
  },
  {
   "cell_type": "code",
   "execution_count": 9,
   "id": "4adacd7d",
   "metadata": {},
   "outputs": [
    {
     "name": "stdout",
     "output_type": "stream",
     "text": [
      "['NumPy is the fundamental package for scientific computing with Python.', '', 'Website: https://www.numpy.org', 'Documentation: https://numpy.org/doc', 'Mailing list: https://mail.python.org/mailman/listinfo/numpy-discussion', 'Source code: https://github.com/numpy/numpy', 'Contributing: https://www.numpy.org/devdocs/dev/index.html', 'Bug reports: https://github.com/numpy/numpy/issues', 'Report a security vulnerability: https://tidelift.com/docs/security', 'It provides:', '', 'a powerful N-dimensional array object', 'sophisticated (broadcasting) functions', 'tools for integrating C/C++ and Fortran code', 'useful linear algebra, Fourier transform, and random number capabilities', 'Testing:', '', 'NumPy requires pytest and hypothesis. Tests can then be run after installation with:', '', 'python -c \"import numpy, sys; sys.exit(numpy.test() is False)\"', 'Code of Conduct', 'NumPy is a community-driven open source project developed by a diverse group of contributors. The NumPy leadership has made a strong commitment to creating an open, inclusive, and positive community. Please read the NumPy Code of Conduct for guidance on how to interact with others in a way that makes our community thrive.', '', 'Call for Contributions', 'The NumPy project welcomes your expertise and enthusiasm!', '', 'Small improvements or fixes are always appreciated. If you are considering larger contributions to the source code, please contact us through the mailing list first.', '', 'Writing code isn’t the only way to contribute to NumPy. You can also:', '', 'review pull requests', 'help us stay on top of new and old issues', 'develop tutorials, presentations, and other educational materials', 'maintain and improve our website', 'develop graphic design for our brand assets and promotional materials', 'translate website content', 'help with outreach and onboard new contributors', 'write grant proposals and help with other fundraising efforts', 'For more information about the ways you can contribute to NumPy, visit our website. If you’re unsure where to start or how your skills fit in, reach out! You can ask on the mailing list or here, on GitHub, by opening a new issue or leaving a comment on a relevant issue that is already open.', '', 'Our preferred channels of communication are all public, but if you’d like to speak to us in private first, contact our community coordinators at numpy-team@googlegroups.com or on Slack (write numpy-team@googlegroups.com for an invitation).', '', 'We also have a biweekly community call, details of which are announced on the mailing list. You are very welcome to join.', '', 'If you are new to contributing to open source, this guide helps explain why, what, and how to successfully get involved.']\n",
      "NumPy is the fundamental package for scientific computing with Python.\n",
      "Report a security vulnerability: https://tidelift.com/docs/security\n",
      "Code of Conduct\n",
      "NumPy is a community-driven open source project developed by a diverse group of contributors. The NumPy leadership has made a strong commitment to creating an open, inclusive, and positive community. Please read the NumPy Code of Conduct for guidance on how to interact with others in a way that makes our community thrive.\n",
      "Small improvements or fixes are always appreciated. If you are considering larger contributions to the source code, please contact us through the mailing list first.\n",
      "help us stay on top of new and old issues\n",
      "maintain and improve our website\n",
      "We also have a biweekly community call, details of which are announced on the mailing list. You are very welcome to join.\n"
     ]
    }
   ],
   "source": [
    "vowels = (\"A\",\"E\",\"I\",\"O\",\"U\",\"a\",\"e\",\"i\",\"o\",\"u\")\n",
    "\n",
    "for line in lines:\n",
    "    words = line.split()\n",
    "    if len(words) >= 2 and words[1][0] in vowels:\n",
    "        print(line)"
   ]
  }
 ],
 "metadata": {
  "kernelspec": {
   "display_name": "Python 3 (ipykernel)",
   "language": "python",
   "name": "python3"
  },
  "language_info": {
   "codemirror_mode": {
    "name": "ipython",
    "version": 3
   },
   "file_extension": ".py",
   "mimetype": "text/x-python",
   "name": "python",
   "nbconvert_exporter": "python",
   "pygments_lexer": "ipython3",
   "version": "3.11.7"
  }
 },
 "nbformat": 4,
 "nbformat_minor": 5
}
