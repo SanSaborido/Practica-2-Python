{
 "cells": [
  {
   "cell_type": "markdown",
   "metadata": {},
   "source": [
    "# EJERCICIO 10"
   ]
  },
  {
   "cell_type": "markdown",
   "metadata": {},
   "source": [
    "### SUB-INCISO 1\n"
   ]
  },
  {
   "cell_type": "code",
   "execution_count": 5,
   "metadata": {},
   "outputs": [
    {
     "name": "stdout",
     "output_type": "stream",
     "text": [
      "{' Agustin': {'Goles:': 0, 'Goles evitados:': 0, 'Asistencias:': 0}, ' Yanina': {'Goles:': 10, 'Goles evitados:': 2, 'Asistencias:': 5}, ' Andrés': {'Goles:': 4, 'Goles evitados:': 0, 'Asistencias:': 1}, ' Ariadna': {'Goles:': 0, 'Goles evitados:': 0, 'Asistencias:': 0}, ' Bautista': {'Goles:': 5, 'Goles evitados:': 5, 'Asistencias:': 5}, ' CAROLINA': {'Goles:': 14, 'Goles evitados:': 2, 'Asistencias:': 2}, '\\nCESAR': {'Goles:': 0, 'Goles evitados:': 0, 'Asistencias:': 0}, ' David': {'Goles:': 0, 'Goles evitados:': 0, 'Asistencias:': 0}, ' Diego': {'Goles:': 7, 'Goles evitados:': 1, 'Asistencias:': 1}, ' Dolores': {'Goles:': 2, 'Goles evitados:': 2, 'Asistencias:': 2}, ' DYLAN': {'Goles:': 1, 'Goles evitados:': 0, 'Asistencias:': 1}, ' ELIANA': {'Goles:': 1, 'Goles evitados:': 5, 'Asistencias:': 5}, ' Emanuel': {'Goles:': 1, 'Goles evitados:': 5, 'Asistencias:': 5}, ' Fabián': {'Goles:': 5, 'Goles evitados:': 0, 'Asistencias:': 0}, ' Noelia': {'Goles:': 6, 'Goles evitados:': 1, 'Asistencias:': 1}, \"\\nFrancsica'\": {'Goles:': 1, 'Goles evitados:': 0, 'Asistencias:': 0}, ' FEDERICO': {'Goles:': 1, 'Goles evitados:': 2, 'Asistencias:': 2}, ' Fernanda': {'Goles:': 2, 'Goles evitados:': 3, 'Asistencias:': 3}, ' GONZALO': {'Goles:': 0, 'Goles evitados:': 0, 'Asistencias:': 1}, ' Nancy ': {'Goles:': 11, 'Goles evitados:': 0, 'Asistencias:': 0}}\n"
     ]
    }
   ],
   "source": [
    "names = \"\"\" Agustin, Yanina, Andrés, Ariadna, Bautista, CAROLINA,\n",
    "CESAR, David, Diego, Dolores, DYLAN, ELIANA, Emanuel, Fabián, Noelia,\n",
    "Francsica', FEDERICO, Fernanda, GONZALO, Nancy \"\"\"\n",
    "goals = [0, 10, 4, 0, 5, 14, 0, 0, 7, 2, 1, 1, 1, 5, 6, 1, 1, 2, 0, 11]\n",
    "goals_avoided = [0, 2, 0, 0, 5, 2, 0, 0, 1, 2, 0, 5, 5, 0, 1, 0, 2, 3, 0, 0]\n",
    "assists = [0, 5, 1, 0, 5, 2, 0, 0, 1, 2, 1, 5, 5, 0, 1, 0, 2, 3, 1, 0]\n",
    "\n",
    "from Functions import structure_creator\n",
    "\n",
    "data = structure_creator(names, goals, goals_avoided, assists)\n",
    "print(data)"
   ]
  }
 ],
 "metadata": {
  "kernelspec": {
   "display_name": "venv",
   "language": "python",
   "name": "python3"
  },
  "language_info": {
   "codemirror_mode": {
    "name": "ipython",
    "version": 3
   },
   "file_extension": ".py",
   "mimetype": "text/x-python",
   "name": "python",
   "nbconvert_exporter": "python",
   "pygments_lexer": "ipython3",
   "version": "3.11.7"
  }
 },
 "nbformat": 4,
 "nbformat_minor": 2
}
