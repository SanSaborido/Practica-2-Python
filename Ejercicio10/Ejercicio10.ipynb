{
 "cells": [
  {
   "cell_type": "markdown",
   "metadata": {},
   "source": [
    "# EJERCICIO 10"
   ]
  },
  {
   "cell_type": "markdown",
   "metadata": {},
   "source": [
    "### SUB-INCISO 1\n",
    "Para ordenar los datos recibidos decidi utilizar un diccionario de diccionarios.\n",
    "En el primero se guardan solo los nombres, acompañados de sus diccionarios correspondientes con los goles, goles evitados y asistencias. Estos a su vez tienen sus respectivas cantidades.\n",
    "Utilizo la funcion \"structure_creator\" del archivo \"Functions\", donde todas las funciones estaran alli."
   ]
  },
  {
   "cell_type": "code",
   "execution_count": 44,
   "metadata": {},
   "outputs": [],
   "source": [
    "names = \"\"\" Agustin, Yanina, Andrés, Ariadna, Bautista, CAROLINA,\n",
    "CESAR, David, Diego, Dolores, DYLAN, ELIANA, Emanuel, Fabián, Noelia,\n",
    "Francsica', FEDERICO, Fernanda, GONZALO, Nancy \"\"\"\n",
    "goals = [0, 10, 4, 0, 5, 14, 0, 0, 7, 2, 1, 1, 1, 5, 6, 1, 1, 2, 0, 11]\n",
    "goals_avoided = [0, 2, 0, 0, 5, 2, 0, 0, 1, 2, 0, 5, 5, 0, 1, 0, 2, 3, 0, 0]\n",
    "assists = [0, 5, 1, 0, 5, 2, 0, 0, 1, 2, 1, 5, 5, 0, 1, 0, 2, 3, 1, 0]"
   ]
  },
  {
   "cell_type": "markdown",
   "metadata": {},
   "source": [
    "Funcion \"structure_creator\" :  Utiliza el zip() para unificar todas las colecciones que se enviaron como parametros, para luego poder iterar sobre ella y asi se van aplicando las asignaciones correspondientes a cada campo del diccionario. "
   ]
  },
  {
   "cell_type": "code",
   "execution_count": 45,
   "metadata": {},
   "outputs": [],
   "source": [
    "def structure_creator (names, goals, goals_avoided, assists):\n",
    "    stats = zip(names.split(\",\"), goals, goals_avoided, assists)    \n",
    "    new_structure = {}    \n",
    "    for name, goal, goal_avoided, assist in stats:\n",
    "        new_structure[name] = {\"Goles:\": goal, \"Goles evitados:\": goal_avoided, \n",
    "                               \"Asistencias:\": assist}\n",
    "    return new_structure\n",
    "\n",
    "data = structure_creator(names, goals, goals_avoided, assists)\n",
    "# print(data)"
   ]
  },
  {
   "cell_type": "markdown",
   "metadata": {},
   "source": [
    "### SUB-INCISO 2\n",
    "\n",
    "Funcion \"best_scorer\" : Recibe como parametro al nuevo diccionario anteriormente creado para aplicarle la funcion max() que a su vez utiliza el diccionario para iterar sobre el, acompañado de una funcion lambda encargada de acceder especificamente a los goles (que en este caso son los unicos datos que se deben analizar). Luego de almacenar el nombre en una variable gracias a la funcion max(), esta variable tambien es utilizada para el acceso rapido a la cantidad de goles del goleador dentro del diccionario. Por ultimo ambas variables son retornadas en una tupla."
   ]
  },
  {
   "cell_type": "code",
   "execution_count": 46,
   "metadata": {},
   "outputs": [
    {
     "name": "stdout",
     "output_type": "stream",
     "text": [
      "Nombre del goleador o goleadora:  CAROLINA  y sus goles: 14\n"
     ]
    }
   ],
   "source": [
    "def best_scorer (new_structure):\n",
    "    max_name = max(new_structure, key=lambda x: new_structure[x][\"Goles:\"])\n",
    "    max_goals = new_structure[max_name][\"Goles:\"]\n",
    "    return max_name, max_goals\n",
    "\n",
    "goal_scorer = best_scorer(data)\n",
    "print(f\"Nombre del goleador o goleadora:\", goal_scorer[0],\" y sus goles:\",goal_scorer[1])"
   ]
  },
  {
   "cell_type": "markdown",
   "metadata": {},
   "source": [
    "### SUB-INCISO 3\n",
    "\n",
    "Funcion \"best_player\" : Recibe el diccionario de jugadores y utiliza la funcion max() para iterar sobre el, aplicando la funcion lambda encargada de acceder a cada campo de cada jugador para multiplicarlos por los valores correspondientes y luego sumarlos. Utilice una funcion lambda para facilitar el acceso a los campos del diccionario mientras se le aplican las multiplicaciones y a su vez tambien para poder utilizar el max().\n",
    "Esta funcion retorna el nombre del jugador que mayor promedio ponderado tiene."
   ]
  },
  {
   "cell_type": "code",
   "execution_count": 47,
   "metadata": {},
   "outputs": [
    {
     "name": "stdout",
     "output_type": "stream",
     "text": [
      "El jugador o jugadora mas influyente es:   CAROLINA\n"
     ]
    }
   ],
   "source": [
    "def best_player (new_structure):\n",
    "    max_player = max(new_structure, key=lambda x: new_structure[x][\"Goles:\"]*1.5\n",
    "                     + new_structure[x][\"Goles evitados:\"]*1.25\n",
    "                     + new_structure[x][\"Asistencias:\"])\n",
    "    return max_player\n",
    "\n",
    "print(f\"El jugador o jugadora mas influyente es: \", (best_player(data)))"
   ]
  },
  {
   "cell_type": "markdown",
   "metadata": {},
   "source": [
    "### SUB-INCISO 4\n",
    "\n",
    "Utilizo una funcion lambda encargada de hacer un sum() con la variable goals(todos los goles de los jugadores) y por ultimo la divido por la cantidad de partidos jugados (en este caso 25), obteniendo el promedio de goles totales en la variable \"team_goals\"."
   ]
  },
  {
   "cell_type": "code",
   "execution_count": 48,
   "metadata": {},
   "outputs": [
    {
     "name": "stdout",
     "output_type": "stream",
     "text": [
      "El promedio de goles del equipo es:  2.84\n"
     ]
    }
   ],
   "source": [
    "team_goals = lambda: sum(goals)/25\n",
    "print(f\"El promedio de goles del equipo es: \", team_goals())"
   ]
  },
  {
   "cell_type": "markdown",
   "metadata": {},
   "source": [
    "### SUB INCISO 5\n",
    "\n",
    "Gracias a la funcion \"best_scorer\" anteriormente utilizada, puedo hacer uso de la variable goal_scorer la cual es una tupla con el nombre y la cantidad total de goles en todos los partidos. Por esto mismo aplico la misma funcion lambda del sub-inciso 4, con la diferencia de que no hace falta el sum, por lo que solo accedo a la posicion de la tupla que indica los goles y luego la divido por los partidos jugados."
   ]
  },
  {
   "cell_type": "code",
   "execution_count": 49,
   "metadata": {},
   "outputs": [
    {
     "name": "stdout",
     "output_type": "stream",
     "text": [
      "El promedio de goles del goleador es:  0.56\n"
     ]
    }
   ],
   "source": [
    "player_average = lambda: goal_scorer[1]/25\n",
    "print(f\"El promedio de goles del goleador es: \", player_average())"
   ]
  }
 ],
 "metadata": {
  "kernelspec": {
   "display_name": "venv",
   "language": "python",
   "name": "python3"
  },
  "language_info": {
   "codemirror_mode": {
    "name": "ipython",
    "version": 3
   },
   "file_extension": ".py",
   "mimetype": "text/x-python",
   "name": "python",
   "nbconvert_exporter": "python",
   "pygments_lexer": "ipython3",
   "version": "3.11.7"
  }
 },
 "nbformat": 4,
 "nbformat_minor": 2
}
