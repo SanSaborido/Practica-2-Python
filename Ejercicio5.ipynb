{
 "cells": [
  {
   "cell_type": "markdown",
   "metadata": {},
   "source": [
    "### EJERCICIO 5"
   ]
  },
  {
   "cell_type": "code",
   "execution_count": 90,
   "metadata": {},
   "outputs": [],
   "source": [
    "article = \"\"\" título: Experiences in Developing a Distributed Agentbased Modeling Toolkit with Python Version 3\n",
    "resumen: Distributed agent-based modeling (ABM) on high-performance\n",
    "computing resources provides the promise of capturing unprecedented\n",
    "details of large-scale complex systems. However, the specialized\n",
    "knowledge required for developing such ABMs creates barriers to wider\n",
    "adoption and utilization. Here we present our experiences in\n",
    "developing an initial implementation of Repast4Py, a Python-based\n",
    "distributed ABM toolkit. We build on our experiences in developing ABM\n",
    "toolkits, including Repast for High Performance Computing (Repast\n",
    "HPC), to identify the key elements of a useful distributed ABM\n",
    "toolkit. We leverage the Numba, NumPy, and PyTorch packages and the\n",
    "Python C-API to create a scalable modeling system that can exploit the\n",
    "largest HPC resources and emerging computing architectures. \"\"\""
   ]
  },
  {
   "cell_type": "markdown",
   "metadata": {},
   "source": [
    "Separacion del titulo y el resumen:"
   ]
  },
  {
   "cell_type": "code",
   "execution_count": 91,
   "metadata": {},
   "outputs": [
    {
     "name": "stdout",
     "output_type": "stream",
     "text": [
      "Experiences in Developing a Distributed Agentbased Modeling Toolkit with Python Version \n"
     ]
    }
   ],
   "source": [
    "article = article.replace (\"título:\",\"\")\n",
    "article = article.replace(\"resumen:\",\"\")\n",
    "article = ''.join(filter(lambda x: not x.isdigit(), article))\n",
    "text = article.strip().split(\"\\n\",1)\n",
    "\n",
    "title = text[0]\n",
    "print(title)\n",
    "\n",
    "summary = text[1]"
   ]
  },
  {
   "cell_type": "markdown",
   "metadata": {},
   "source": [
    "Metodo encargado de contar las palabras por cada oracion, recibiendo el resumen como parametro y devolviendo un diccionario con las respuestas:"
   ]
  },
  {
   "cell_type": "code",
   "execution_count": 92,
   "metadata": {},
   "outputs": [],
   "source": [
    "def word_counter(summary):\n",
    "    counter = {\"Faciles de leer\": 0, \"Aceptables para leer\": 0, \"Dificil de leer\": 0, \"Muy dificil de leer\": 0}\n",
    "    sentences = summary.strip().split(\".\")\n",
    "    counter1 = counter2 = counter3 = counter4 = 0\n",
    "    for sentence in sentences:\n",
    "        words_sentence = len(sentence.strip().split())\n",
    "        if words_sentence <= 12:\n",
    "            counter1 += 1\n",
    "        elif words_sentence <= 17:\n",
    "            counter2 += 1\n",
    "        elif words_sentence <= 25:\n",
    "            counter3 += 1\n",
    "        else:\n",
    "            counter4 += 1\n",
    "    counter[\"Faciles de leer\"] = counter1\n",
    "    counter[\"Aceptables para leer\"] = counter2\n",
    "    counter[\"Dificil de leer\"] = counter3\n",
    "    counter[\"Muy dificil de leer\"] = counter4\n",
    "    return counter"
   ]
  },
  {
   "cell_type": "markdown",
   "metadata": {},
   "source": [
    "Resolucion del ejercicio:"
   ]
  },
  {
   "cell_type": "code",
   "execution_count": 93,
   "metadata": {},
   "outputs": [
    {
     "name": "stdout",
     "output_type": "stream",
     "text": [
      "título: not ok\n",
      "Oraciones: {'Faciles de leer': 1, 'Aceptables para leer': 2, 'Dificil de leer': 1, 'Muy dificil de leer': 2}\n"
     ]
    }
   ],
   "source": [
    "if len(title) <= 10: \n",
    "    print(\"título: ok\")\n",
    "else: \n",
    "    print(\"título: not ok\")\n",
    "\n",
    "\n",
    "print(f\"Oraciones:\",word_counter(summary))    "
   ]
  }
 ],
 "metadata": {
  "kernelspec": {
   "display_name": "venv",
   "language": "python",
   "name": "python3"
  },
  "language_info": {
   "codemirror_mode": {
    "name": "ipython",
    "version": 3
   },
   "file_extension": ".py",
   "mimetype": "text/x-python",
   "name": "python",
   "nbconvert_exporter": "python",
   "pygments_lexer": "ipython3",
   "version": "3.11.7"
  }
 },
 "nbformat": 4,
 "nbformat_minor": 2
}
